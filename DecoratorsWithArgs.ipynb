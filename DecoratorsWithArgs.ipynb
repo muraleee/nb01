{
  "cells": [
    {
      "cell_type": "code",
      "execution_count": 1,
      "metadata": {
        "collapsed": true,
        "pycharm": {
          "is_executing": false
        }
      },
      "outputs": [
        {
          "name": "stdout",
          "text": [
            "Hey, you are CALLING add\nNone\n"
          ],
          "output_type": "stream"
        }
      ],
      "source": "def logformat(fmt):\n    def logged(func):\n        def wrapper(*args, **kwargs):\n            print(\u0027{} {}\u0027.format(fmt, func.__name__))\n            \n        return wrapper\n    return logged\n\ndeco \u003d logformat(\u0027Hey, you are CALLING\u0027)\n\n@deco\ndef add(x, y):\n    return  x + y\n\nprint(add(3,3))"
    }
  ],
  "metadata": {
    "language_info": {
      "codemirror_mode": {
        "name": "ipython",
        "version": 2
      },
      "file_extension": ".py",
      "mimetype": "text/x-python",
      "name": "python",
      "nbconvert_exporter": "python",
      "pygments_lexer": "ipython2",
      "version": "2.7.6"
    },
    "kernelspec": {
      "name": "python3",
      "language": "python",
      "display_name": "Python 3"
    }
  },
  "nbformat": 4,
  "nbformat_minor": 0
}