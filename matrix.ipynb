{
  "cells": [
    {
      "cell_type": "code",
      "execution_count": 30,
      "metadata": {
        "collapsed": true,
        "pycharm": {
          "is_executing": false
        }
      },
      "outputs": [
        {
          "data": {
            "text/plain": "array([[1.],\n       [1.],\n       [1.],\n       [1.]])"
          },
          "metadata": {},
          "output_type": "execute_result",
          "execution_count": 30
        }
      ],
      "source": "import numpy as np\nfrom numpy.random import rand\nfrom scipy.stats import norm\n\ngrid \u003d np.zeros((100,100))\ngrid +\u003d 20\ngrid\nnp.sin(grid)\ngrid \u003d np.random.rand(100,100)\nnp.sin(grid) - grid\n\nnorm.pdf(0,0,1)\nnp.ones((4,1), order\u003d\u0027C\u0027)"
    }
  ],
  "metadata": {
    "language_info": {
      "codemirror_mode": {
        "name": "ipython",
        "version": 2
      },
      "file_extension": ".py",
      "mimetype": "text/x-python",
      "name": "python",
      "nbconvert_exporter": "python",
      "pygments_lexer": "ipython2",
      "version": "2.7.6"
    },
    "kernelspec": {
      "name": "python3",
      "language": "python",
      "display_name": "Python 3"
    }
  },
  "nbformat": 4,
  "nbformat_minor": 0
}