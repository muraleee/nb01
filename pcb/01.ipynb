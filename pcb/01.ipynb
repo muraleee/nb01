{
  "cells": [
    {
      "cell_type": "code",
      "execution_count": 57,
      "metadata": {
        "collapsed": true,
        "pycharm": {
          "is_executing": false
        }
      },
      "outputs": [
        {
          "name": "stdout",
          "text": [
            "Wall time: 845 µs\n"
          ],
          "output_type": "stream"
        },
        {
          "data": {
            "text/plain": "0.2     39.0\n0.4     82.0\n0.6    137.0\n0.8    219.0\n1.0    813.0\nName: num_critic_for_reviews, dtype: float64"
          },
          "metadata": {},
          "output_type": "execute_result",
          "execution_count": 57
        }
      ],
      "source": "import pandas as pd\nimport numpy as np\n\nmovie \u003d pd.read_csv(\u0027C:/Dev/Python/pcb/data/movie.csv\u0027)\n#movie.info()\nmovie.index\ntype(movie.values)\nmovie.values\ntype(movie.index)\ntype(movie.columns)\nisinstance(movie.index, type(movie.columns))\nmovie.columns.to_frame(index\u003dFalse)\nmovie.columns\n%time movie[\u0027director_name\u0027].to_frame(name\u003d\u0027Directors\u0027)\n#movie.columns.values\nmovie.dtypes\n\nmovie[\u0027director_name\u0027]\n\nlen(set(dir(pd.Series)) \u0026 set(dir(pd.DataFrame)))\n\nlen(set(dir(pd.DataFrame)))\n\nmovie[\u0027director_name\u0027].value_counts()\n\nmovie.get_dtype_counts()\n\nmovie[\u0027director_name\u0027].describe()\nmovie[\u0027num_critic_for_reviews\u0027].describe()\nmovie[\u0027num_critic_for_reviews\u0027].quantile(np.linspace(0.2,1,5))\n#np.linspace(0.2,1,5)"
    }
  ],
  "metadata": {
    "language_info": {
      "codemirror_mode": {
        "name": "ipython",
        "version": 2
      },
      "file_extension": ".py",
      "mimetype": "text/x-python",
      "name": "python",
      "nbconvert_exporter": "python",
      "pygments_lexer": "ipython2",
      "version": "2.7.6"
    },
    "kernelspec": {
      "name": "python3",
      "language": "python",
      "display_name": "Python 3"
    }
  },
  "nbformat": 4,
  "nbformat_minor": 0
}